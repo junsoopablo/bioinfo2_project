{
 "cells": [
  {
   "cell_type": "code",
   "execution_count": 1,
   "metadata": {},
   "outputs": [
    {
     "name": "stdout",
     "output_type": "stream",
     "text": [
      "/qbio/junsoopablo/2022_bioinfo/project/binfo1-datapack1\n"
     ]
    }
   ],
   "source": [
    "%cd /qbio/junsoopablo/2022_bioinfo/project/binfo1-datapack1"
   ]
  },
  {
   "cell_type": "code",
   "execution_count": 2,
   "metadata": {},
   "outputs": [],
   "source": [
    "import numpy as np\n",
    "import pickle\n",
    "from sklearn import decomposition\n",
    "from scipy.stats import spearmanr\n",
    "from functools import reduce\n",
    "import matplotlib.ticker as ticker\n",
    "from Bio.Seq import Seq\n",
    "from Bio.SeqUtils import GC\n",
    "from Bio import SeqIO\n",
    "import matplotlib.colors as mcolors\n",
    "import pylab as pl\n",
    "from collections import Counter\n",
    "from matplotlib import colors as colors\n",
    "\n",
    "plt.style.use('default')\n",
    "plt.rcParams['axes.facecolor'] = 'white'\n",
    "plt.rcParams['savefig.facecolor'] = 'white'\n",
    "plt.rcParams['figure.facecolor'] = 'white'\n",
    "plt.rcParams['savefig.facecolor'] = 'white'\n",
    "sns.set_style(\"whitegrid\")\n",
    "\n",
    "# fig.patch.set_facecolor('white')\n",
    "%matplotlib inline"
   ]
  },
  {
   "cell_type": "code",
   "execution_count": 3,
   "metadata": {},
   "outputs": [
    {
     "name": "stderr",
     "output_type": "stream",
     "text": [
      "/tmp/ipykernel_1160685/1395101429.py:20: SettingWithCopyWarning: \n",
      "A value is trying to be set on a copy of a slice from a DataFrame.\n",
      "Try using .loc[row_indexer,col_indexer] = value instead\n",
      "\n",
      "See the caveats in the documentation: https://pandas.pydata.org/pandas-docs/stable/user_guide/indexing.html#returning-a-view-versus-a-copy\n",
      "  genesym_dic['gene_id'] = genesym_dic['gene_id'].str.split('.',expand=True)[0]\n"
     ]
    },
    {
     "data": {
      "text/html": [
       "<div>\n",
       "<style scoped>\n",
       "    .dataframe tbody tr th:only-of-type {\n",
       "        vertical-align: middle;\n",
       "    }\n",
       "\n",
       "    .dataframe tbody tr th {\n",
       "        vertical-align: top;\n",
       "    }\n",
       "\n",
       "    .dataframe thead th {\n",
       "        text-align: right;\n",
       "    }\n",
       "</style>\n",
       "<table border=\"1\" class=\"dataframe\">\n",
       "  <thead>\n",
       "    <tr style=\"text-align: right;\">\n",
       "      <th></th>\n",
       "      <th>transcript_id</th>\n",
       "      <th>gene_id</th>\n",
       "      <th>utr5</th>\n",
       "      <th>cds</th>\n",
       "      <th>utr3</th>\n",
       "      <th>noncoding</th>\n",
       "      <th>genesize</th>\n",
       "      <th>gene_name</th>\n",
       "    </tr>\n",
       "  </thead>\n",
       "  <tbody>\n",
       "    <tr>\n",
       "      <th>0</th>\n",
       "      <td>ENSMUST00000000001.5</td>\n",
       "      <td>ENSMUSG00000000001.5</td>\n",
       "      <td>141</td>\n",
       "      <td>1065</td>\n",
       "      <td>2056</td>\n",
       "      <td>0</td>\n",
       "      <td>3262</td>\n",
       "      <td>Gnai3</td>\n",
       "    </tr>\n",
       "    <tr>\n",
       "      <th>1</th>\n",
       "      <td>ENSMUST00000000003.14</td>\n",
       "      <td>ENSMUSG00000000003.16</td>\n",
       "      <td>140</td>\n",
       "      <td>525</td>\n",
       "      <td>237</td>\n",
       "      <td>0</td>\n",
       "      <td>902</td>\n",
       "      <td>Pbsn</td>\n",
       "    </tr>\n",
       "    <tr>\n",
       "      <th>2</th>\n",
       "      <td>ENSMUST00000000010.9</td>\n",
       "      <td>ENSMUSG00000020875.10</td>\n",
       "      <td>85</td>\n",
       "      <td>753</td>\n",
       "      <td>1736</td>\n",
       "      <td>0</td>\n",
       "      <td>2574</td>\n",
       "      <td>Hoxb9</td>\n",
       "    </tr>\n",
       "    <tr>\n",
       "      <th>3</th>\n",
       "      <td>ENSMUST00000000028.14</td>\n",
       "      <td>ENSMUSG00000000028.16</td>\n",
       "      <td>313</td>\n",
       "      <td>1701</td>\n",
       "      <td>129</td>\n",
       "      <td>0</td>\n",
       "      <td>2143</td>\n",
       "      <td>Cdc45</td>\n",
       "    </tr>\n",
       "    <tr>\n",
       "      <th>5</th>\n",
       "      <td>ENSMUST00000000049.6</td>\n",
       "      <td>ENSMUSG00000000049.12</td>\n",
       "      <td>51</td>\n",
       "      <td>1038</td>\n",
       "      <td>101</td>\n",
       "      <td>0</td>\n",
       "      <td>1190</td>\n",
       "      <td>Apoh</td>\n",
       "    </tr>\n",
       "  </tbody>\n",
       "</table>\n",
       "</div>"
      ],
      "text/plain": [
       "           transcript_id                gene_id  utr5   cds  utr3  noncoding  \\\n",
       "0   ENSMUST00000000001.5   ENSMUSG00000000001.5   141  1065  2056          0   \n",
       "1  ENSMUST00000000003.14  ENSMUSG00000000003.16   140   525   237          0   \n",
       "2   ENSMUST00000000010.9  ENSMUSG00000020875.10    85   753  1736          0   \n",
       "3  ENSMUST00000000028.14  ENSMUSG00000000028.16   313  1701   129          0   \n",
       "5   ENSMUST00000000049.6  ENSMUSG00000000049.12    51  1038   101          0   \n",
       "\n",
       "   genesize gene_name  \n",
       "0      3262     Gnai3  \n",
       "1       902      Pbsn  \n",
       "2      2574     Hoxb9  \n",
       "3      2143     Cdc45  \n",
       "5      1190      Apoh  "
      ]
     },
     "execution_count": 3,
     "metadata": {},
     "output_type": "execute_result"
    }
   ],
   "source": [
    "trgenename = pd.read_csv('/qbio/junsoopablo/02_Projects/01_SCV2-Ribo/07_Chang/scv2-riboseq/references/Mouse-SCV2.transcript-genenames.txt', sep='\\t', names=['transcript_id', 'gene_name'], index_col=0)\n",
    "codinglengths = pd.read_csv('/qbio/junsoopablo/02_Projects/01_SCV2-Ribo/07_Chang/scv2-riboseq/references/transcript-coding-lengths.txt', sep='\\t',\n",
    "                            names='transcript_id gene_id utr5 cds utr3 noncoding'.split())\n",
    "\n",
    "repisoform = pickle.load(open('/qbio/junsoopablo//02_Projects/01_SCV2-Ribo/07_Chang/scv2-riboseq/ribojun/references/representative-isoforms.pickle','rb'))\n",
    "\n",
    "\n",
    "codinglengths['genesize'] = codinglengths['utr5'] + codinglengths['cds'] + codinglengths['utr3']\n",
    "codinglengths_gene = pd.merge(codinglengths, trgenename, how='inner', left_on='transcript_id', right_index=True)\n",
    "codinglengths_gene = codinglengths_gene.loc[codinglengths_gene['transcript_id'].isin(repisoform['transcript_id'])]\n",
    "\n",
    "cdslen_dic = codinglengths_gene.set_index('transcript_id')['cds'].to_dict()\n",
    "utr3len_dic = codinglengths_gene.set_index('transcript_id')['utr3'].to_dict()\n",
    "gene_dic = codinglengths_gene.copy(deep=True)\n",
    "gene_dic['gene_id'] = gene_dic['gene_id'].str.split('.',expand=True)[0]\n",
    "gene_dic = gene_dic.set_index('transcript_id')['gene_id'].to_dict()\n",
    "\n",
    "genelen_dic = codinglengths_gene.set_index('transcript_id')['genesize'].to_dict()\n",
    "genesym_dic = codinglengths_gene[['gene_id', 'gene_name']]\n",
    "genesym_dic['gene_id'] = genesym_dic['gene_id'].str.split('.',expand=True)[0]\n",
    "genesym_dic = genesym_dic.set_index('gene_id')['gene_name'].to_dict()\n",
    "\n",
    "\n",
    "codinglengths_gene.head()"
   ]
  },
  {
   "cell_type": "code",
   "execution_count": 4,
   "metadata": {},
   "outputs": [
    {
     "data": {
      "text/html": [
       "<div>\n",
       "<style scoped>\n",
       "    .dataframe tbody tr th:only-of-type {\n",
       "        vertical-align: middle;\n",
       "    }\n",
       "\n",
       "    .dataframe tbody tr th {\n",
       "        vertical-align: top;\n",
       "    }\n",
       "\n",
       "    .dataframe thead th {\n",
       "        text-align: right;\n",
       "    }\n",
       "</style>\n",
       "<table border=\"1\" class=\"dataframe\">\n",
       "  <thead>\n",
       "    <tr style=\"text-align: right;\">\n",
       "      <th></th>\n",
       "      <th>transcript_id</th>\n",
       "      <th>gene_id</th>\n",
       "      <th>utr5</th>\n",
       "      <th>cds</th>\n",
       "      <th>utr3</th>\n",
       "      <th>noncoding</th>\n",
       "      <th>genesize</th>\n",
       "      <th>gene_name</th>\n",
       "    </tr>\n",
       "  </thead>\n",
       "  <tbody>\n",
       "    <tr>\n",
       "      <th>75713</th>\n",
       "      <td>ENSMUST00000167436.3</td>\n",
       "      <td>ENSMUSG00000060938.15</td>\n",
       "      <td>128</td>\n",
       "      <td>438</td>\n",
       "      <td>40</td>\n",
       "      <td>0</td>\n",
       "      <td>606</td>\n",
       "      <td>Rpl26</td>\n",
       "    </tr>\n",
       "  </tbody>\n",
       "</table>\n",
       "</div>"
      ],
      "text/plain": [
       "              transcript_id                gene_id  utr5  cds  utr3  \\\n",
       "75713  ENSMUST00000167436.3  ENSMUSG00000060938.15   128  438    40   \n",
       "\n",
       "       noncoding  genesize gene_name  \n",
       "75713          0       606     Rpl26  "
      ]
     },
     "execution_count": 4,
     "metadata": {},
     "output_type": "execute_result"
    }
   ],
   "source": [
    "codinglengths_gene.loc[codinglengths_gene['gene_name']=='Rpl26']"
   ]
  },
  {
   "cell_type": "markdown",
   "metadata": {},
   "source": [
    "# Convert genome bam to transcript bam"
   ]
  },
  {
   "cell_type": "code",
   "execution_count": 5,
   "metadata": {},
   "outputs": [
    {
     "name": "stdout",
     "output_type": "stream",
     "text": [
      "Starting Fri Jun 03 18:21:55 KST 2022\n",
      "Parsing arguments\n",
      "bedFile: /qbio/junsoopablo/02_Projects/01_SCV2-Ribo/07_Chang/scv2-riboseq/ribojun/references/Mouse-SCV2.bed12\n",
      "readOffset: 25\n",
      "inputAlignmentFile: RNA-siLuc.bam\n",
      "outputAlignmentFile: RNA-siLuc_tmp.bam\n",
      "orderFastaFile: not specified\n",
      "positiveStrandReportingOnly: false\n",
      "xgtags: false\n",
      "single: true\n",
      "\n",
      "Skipping isoform header order determination\n",
      "Building read index\n",
      "Loaded 10001 isoforms.\n",
      "Loaded 20001 isoforms.\n",
      "Loaded 30001 isoforms.\n",
      "Loaded 40001 isoforms.\n",
      "Loaded 50001 isoforms.\n",
      "Loaded 60001 isoforms.\n",
      "Loaded 70001 isoforms.\n",
      "Loaded 80001 isoforms.\n",
      "Loaded 90001 isoforms.\n",
      "Loaded 100001 isoforms.\n",
      "Loaded 110001 isoforms.\n",
      "Loaded 120001 isoforms.\n",
      "Loaded 130001 isoforms.\n",
      "Loaded 140001 isoforms.\n",
      "Converting\n",
      "Reading file: RNA-siLuc.bam\n",
      "Writing to file: RNA-siLuc_tmp.bam\n",
      "Writing header\n",
      "Processing single end reads\n",
      "Indexing isoforms for: chr1\n",
      "Processed 1 reads.\n",
      "Exception in thread \"main\" java.lang.IllegalStateException: Case statement didn't deal with cigar op: H for read: [SRR458754.15293515]\n",
      "\tat edu.unc.bioinf.ubu.sam.ReadBlock.getReadBlocks(ReadBlock.java:121)\n",
      "\tat edu.unc.bioinf.ubu.sam.Isoform.match(Isoform.java:110)\n",
      "\tat edu.unc.bioinf.ubu.sam.GenomeToTranscriptomeConverter.convertAndOutput(GenomeToTranscriptomeConverter.java:223)\n",
      "\tat edu.unc.bioinf.ubu.sam.GenomeToTranscriptomeConverter.convertFileForSingleEnd(GenomeToTranscriptomeConverter.java:303)\n",
      "\tat edu.unc.bioinf.ubu.sam.GenomeToTranscriptomeConverter.convertFile(GenomeToTranscriptomeConverter.java:342)\n",
      "\tat edu.unc.bioinf.ubu.sam.GenomeToTranscriptome.run(GenomeToTranscriptome.java:79)\n",
      "\tat edu.unc.bioinf.ubu.Ubu.run(Ubu.java:42)\n",
      "\tat edu.unc.bioinf.ubu.Ubu.main(Ubu.java:91)\n",
      "[W::bam_hdr_read] EOF marker is absent. The input is probably truncated\n",
      "samtools view: error reading file \"RNA-siLuc_tmp.bam\"\n",
      "[bam_sort_core] merging from 0 files and 10 in-memory blocks...\n"
     ]
    }
   ],
   "source": [
    "! java -jar /qbio/junsoopablo/02_Projects/01_SCV2-Ribo/07_Chang/scv2-riboseq/ribojun/contrib/ubu.jar \\\n",
    "    sam-xlate --bed /qbio/junsoopablo/02_Projects/01_SCV2-Ribo/07_Chang/scv2-riboseq/ribojun/references/Mouse-SCV2.bed12 \\\n",
    "        --in RNA-siLuc.bam --out RNA-siLuc_tmp.bam --single --reverse\n",
    "! samtools view -h RNA-siLuc_tmp.bam | \\\n",
    "        awk -vOFS='\\t' '/^@/ { print $0; } \\\n",
    "        /^[^@]/ { $2 = xor($2, 8); print }' | \\\n",
    "    samtools sort -@ 10 --write-index -o filtered-RNA-siLuc_transcriptome.bam -"
   ]
  },
  {
   "cell_type": "code",
   "execution_count": 6,
   "metadata": {},
   "outputs": [
    {
     "name": "stdout",
     "output_type": "stream",
     "text": [
      "Starting Fri Jun 03 18:22:52 KST 2022\n",
      "Parsing arguments\n",
      "bedFile: /qbio/junsoopablo/02_Projects/01_SCV2-Ribo/07_Chang/scv2-riboseq/ribojun/references/Mouse-SCV2.bed12\n",
      "readOffset: 25\n",
      "inputAlignmentFile: RNA-siLin28a.bam\n",
      "outputAlignmentFile: RNA-siLin28a_tmp.bam\n",
      "orderFastaFile: not specified\n",
      "positiveStrandReportingOnly: false\n",
      "xgtags: false\n",
      "single: true\n",
      "\n",
      "Skipping isoform header order determination\n",
      "Building read index\n",
      "Loaded 10001 isoforms.\n",
      "Loaded 20001 isoforms.\n",
      "Loaded 30001 isoforms.\n",
      "Loaded 40001 isoforms.\n",
      "Loaded 50001 isoforms.\n",
      "Loaded 60001 isoforms.\n",
      "Loaded 70001 isoforms.\n",
      "Loaded 80001 isoforms.\n",
      "Loaded 90001 isoforms.\n",
      "Loaded 100001 isoforms.\n",
      "Loaded 110001 isoforms.\n",
      "Loaded 120001 isoforms.\n",
      "Loaded 130001 isoforms.\n",
      "Loaded 140001 isoforms.\n",
      "Converting\n",
      "Reading file: RNA-siLin28a.bam\n",
      "Writing to file: RNA-siLin28a_tmp.bam\n",
      "Writing header\n",
      "Processing single end reads\n",
      "Indexing isoforms for: chr1\n",
      "Processed 1 reads.\n",
      "Exception in thread \"main\" java.lang.IllegalStateException: Case statement didn't deal with cigar op: H for read: [SRR458755.14294969]\n",
      "\tat edu.unc.bioinf.ubu.sam.ReadBlock.getReadBlocks(ReadBlock.java:121)\n",
      "\tat edu.unc.bioinf.ubu.sam.Isoform.match(Isoform.java:110)\n",
      "\tat edu.unc.bioinf.ubu.sam.GenomeToTranscriptomeConverter.convertAndOutput(GenomeToTranscriptomeConverter.java:223)\n",
      "\tat edu.unc.bioinf.ubu.sam.GenomeToTranscriptomeConverter.convertFileForSingleEnd(GenomeToTranscriptomeConverter.java:303)\n",
      "\tat edu.unc.bioinf.ubu.sam.GenomeToTranscriptomeConverter.convertFile(GenomeToTranscriptomeConverter.java:342)\n",
      "\tat edu.unc.bioinf.ubu.sam.GenomeToTranscriptome.run(GenomeToTranscriptome.java:79)\n",
      "\tat edu.unc.bioinf.ubu.Ubu.run(Ubu.java:42)\n",
      "\tat edu.unc.bioinf.ubu.Ubu.main(Ubu.java:91)\n",
      "[W::bam_hdr_read] EOF marker is absent. The input is probably truncated\n",
      "samtools view: error reading file \"RNA-siLin28a_tmp.bam\"\n"
     ]
    }
   ],
   "source": [
    "! java -jar /qbio/junsoopablo/02_Projects/01_SCV2-Ribo/07_Chang/scv2-riboseq/ribojun/contrib/ubu.jar \\\n",
    "    sam-xlate --bed /qbio/junsoopablo/02_Projects/01_SCV2-Ribo/07_Chang/scv2-riboseq/ribojun/references/Mouse-SCV2.bed12 \\\n",
    "        --in RNA-siLin28a.bam --out RNA-siLin28a_tmp.bam --single --reverse\n",
    "! samtools view -h RNA-siLin28a_tmp.bam | \\\n",
    "        awk -vOFS='\\t' '/^@/ { print $0; } \\\n",
    "        /^[^@]/ { $2 = xor($2, 8); print }' | \\\n",
    "    samtools sort -@ 10 --write-index -o filtered-RNA-siLin28a_transcriptome.bam -"
   ]
  },
  {
   "cell_type": "markdown",
   "metadata": {},
   "source": [
    "# convert bam to rpf counts"
   ]
  },
  {
   "cell_type": "code",
   "execution_count": 7,
   "metadata": {},
   "outputs": [
    {
     "name": "stdout",
     "output_type": "stream",
     "text": [
      "ENSMUST00000140995.2\t188\t189\t1\n",
      "ENSMUST00000140995.2\t233\t234\t3\n",
      "ENSMUST00000160777.8\t910\t911\t4\n",
      "ENSMUST00000160777.8\t1859\t1860\t2\n",
      "ENSMUST00000160777.8\t2477\t2478\t2\n",
      "ENSMUST00000160777.8\t3558\t3559\t3\n",
      "ENSMUST00000160777.8\t3822\t3823\t1\n",
      "ENSMUST00000160777.8\t4158\t4159\t4\n",
      "ENSMUST00000194886.2\t318\t319\t2\n",
      "ENSMUST00000194886.2\t327\t328\t2\n"
     ]
    }
   ],
   "source": [
    "!bedtools genomecov -ibam filtered-RNA-siLuc_transcriptome.bam -bg -5 > siLuc_RNA_transcriptome.bed\n",
    "!head siLuc_RNA_transcriptome.bed"
   ]
  },
  {
   "cell_type": "code",
   "execution_count": 8,
   "metadata": {},
   "outputs": [
    {
     "name": "stdout",
     "output_type": "stream",
     "text": [
      "ENSMUST00000192973.2\t1100\t1101\t1\n",
      "ENSMUST00000192183.2\t700\t701\t1\n",
      "ENSMUST00000192183.2\t755\t756\t1\n",
      "ENSMUST00000192183.2\t758\t759\t2\n",
      "ENSMUST00000161581.2\t103\t104\t1\n",
      "ENSMUST00000195166.2\t1904\t1905\t1\n",
      "ENSMUST00000195166.2\t1905\t1906\t27\n",
      "ENSMUST00000195166.2\t1906\t1907\t21\n",
      "ENSMUST00000195166.2\t1907\t1908\t27\n",
      "ENSMUST00000195166.2\t1908\t1909\t22\n"
     ]
    }
   ],
   "source": [
    "!bedtools genomecov -ibam filtered-RNA-siLin28a_transcriptome.bam -bg -5 > siLin28a_RNA_transcriptome.bed\n",
    "!head siLin28a_RNA_transcriptome.bed"
   ]
  },
  {
   "cell_type": "code",
   "execution_count": null,
   "metadata": {},
   "outputs": [],
   "source": []
  }
 ],
 "metadata": {
  "language_info": {
   "name": "python"
  },
  "orig_nbformat": 4
 },
 "nbformat": 4,
 "nbformat_minor": 2
}
